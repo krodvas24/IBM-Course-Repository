{
 "cells": [
  {
   "cell_type": "markdown",
   "id": "e9be4e0b-2e09-4e57-a896-af9adc6b3762",
   "metadata": {
    "tags": []
   },
   "source": [
    "# Data Science Tools and Ecosystem"
   ]
  },
  {
   "cell_type": "markdown",
   "id": "71a4b2d2-c9ac-4db3-a5cb-dd78243e4c9c",
   "metadata": {},
   "source": [
    "In this notebook, Data Science Tools and Ecosystem are summarized."
   ]
  },
  {
   "cell_type": "markdown",
   "id": "02c3a8e4-7016-4bc5-9cdc-93dd53342a88",
   "metadata": {},
   "source": [
    "**Objectives:**\n",
    "\n",
    "-List popular languages used for data science\n",
    "\n",
    "-Review commonly used libraries for data science\n",
    "\n",
    "-Reviewing some open source data science tools\n",
    "\n",
    "-Exemplars demonstrating arithmetic operations"
   ]
  },
  {
   "cell_type": "markdown",
   "id": "d9dc70de-d724-4aae-af3c-d3b7c10c088a",
   "metadata": {},
   "source": [
    "Some of the popular languages that Data Scientists use are:\n",
    "    \n",
    "    1. R\n",
    "    2. Python\n",
    "    3. C++\n",
    "    4. SQL"
   ]
  },
  {
   "cell_type": "markdown",
   "id": "7f3203ba-9b33-4075-a14a-d02431c96890",
   "metadata": {},
   "source": [
    "Some of the commonly used libraries used by Data Scientists include:\n",
    "    \n",
    "    1. Pandas\n",
    "    2. Numpy\n",
    "    3. Matplotlib\n",
    "    4. Seaborn\n",
    "    5. Scikit-learn\n",
    "    6. Keras\n",
    "    7. Tensor Flow\n",
    "    8. PyTorch"
   ]
  },
  {
   "cell_type": "markdown",
   "id": "68962f76-09d1-4bd6-9491-b02719f5d663",
   "metadata": {},
   "source": [
    "|Data Science Tools|\n",
    "--------------------\n",
    "|R Studio|\n",
    "|Jupyter Lab|\n",
    "|Google Colab|"
   ]
  },
  {
   "cell_type": "markdown",
   "id": "a644bbce-5b95-4a41-9b38-b711c2d15c4f",
   "metadata": {},
   "source": [
    "### Below are a few examples of evaluating arithmetic expressions in Python"
   ]
  },
  {
   "cell_type": "code",
   "execution_count": 1,
   "id": "87a04b42-6907-4c67-a197-96fa1c39bf51",
   "metadata": {},
   "outputs": [
    {
     "data": {
      "text/plain": [
       "17"
      ]
     },
     "execution_count": 1,
     "metadata": {},
     "output_type": "execute_result"
    }
   ],
   "source": [
    "#This is a simple arithmetic expression to multiply then add integers\n",
    "(3*4)+5"
   ]
  },
  {
   "cell_type": "code",
   "execution_count": 2,
   "id": "e3823b14-1367-4415-8f68-54c0a5531063",
   "metadata": {},
   "outputs": [
    {
     "data": {
      "text/plain": [
       "3.3333333333333335"
      ]
     },
     "execution_count": 2,
     "metadata": {},
     "output_type": "execute_result"
    }
   ],
   "source": [
    "#This will convert 200 minutes to hours by dividing by 60\n",
    "200/60"
   ]
  },
  {
   "cell_type": "markdown",
   "id": "94c1df1c-85d2-4704-9484-2e9d641b4e9a",
   "metadata": {},
   "source": [
    "## Author\n",
    "\n",
    "Kelly"
   ]
  },
  {
   "cell_type": "code",
   "execution_count": null,
   "id": "df296741-99ca-4578-a737-36b0ae12f5b4",
   "metadata": {},
   "outputs": [],
   "source": []
  }
 ],
 "metadata": {
  "kernelspec": {
   "display_name": "Python 3 (ipykernel)",
   "language": "python",
   "name": "python3"
  },
  "language_info": {
   "codemirror_mode": {
    "name": "ipython",
    "version": 3
   },
   "file_extension": ".py",
   "mimetype": "text/x-python",
   "name": "python",
   "nbconvert_exporter": "python",
   "pygments_lexer": "ipython3",
   "version": "3.9.13"
  }
 },
 "nbformat": 4,
 "nbformat_minor": 5
}
